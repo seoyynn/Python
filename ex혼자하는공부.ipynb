{
 "cells": [
  {
   "cell_type": "code",
   "execution_count": 1,
   "id": "0eeae2a1",
   "metadata": {
    "ExecuteTime": {
     "end_time": "2022-12-02T10:54:39.759185Z",
     "start_time": "2022-12-02T10:54:39.750162Z"
    }
   },
   "outputs": [
    {
     "name": "stdout",
     "output_type": "stream",
     "text": [
      "사과\n",
      "귤\n",
      "수박\n"
     ]
    }
   ],
   "source": [
    "과일 = [\"사과\", \"귤\", \"수박\"]\n",
    "\n",
    "for i in 과일:\n",
    "    print(i)"
   ]
  },
  {
   "cell_type": "code",
   "execution_count": 3,
   "id": "9d7de4a1",
   "metadata": {
    "ExecuteTime": {
     "end_time": "2022-12-02T10:57:11.957351Z",
     "start_time": "2022-12-02T10:57:11.939990Z"
    }
   },
   "outputs": [
    {
     "name": "stdout",
     "output_type": "stream",
     "text": [
      "10\n",
      "20\n",
      "30\n"
     ]
    }
   ],
   "source": [
    "arr = [10, 20, 30]\n",
    "\n",
    "for i in arr:\n",
    "    print(i)"
   ]
  },
  {
   "cell_type": "code",
   "execution_count": 5,
   "id": "59aaee47",
   "metadata": {
    "ExecuteTime": {
     "end_time": "2022-12-02T10:59:12.958522Z",
     "start_time": "2022-12-02T10:59:12.947526Z"
    }
   },
   "outputs": [
    {
     "name": "stdout",
     "output_type": "stream",
     "text": [
      "10\n",
      "---------\n",
      "20\n",
      "---------\n",
      "30\n",
      "---------\n"
     ]
    }
   ],
   "source": [
    "for i in [10, 20, 30]:\n",
    "    print(i)\n",
    "    print(\"---------\")"
   ]
  },
  {
   "cell_type": "code",
   "execution_count": 6,
   "id": "638f124c",
   "metadata": {
    "ExecuteTime": {
     "end_time": "2022-12-02T10:59:48.108237Z",
     "start_time": "2022-12-02T10:59:48.101283Z"
    }
   },
   "outputs": [
    {
     "name": "stdout",
     "output_type": "stream",
     "text": [
      "++++\n",
      "10\n",
      "20\n",
      "30\n"
     ]
    }
   ],
   "source": [
    "print(\"++++\")\n",
    "\n",
    "for i in [10, 20, 30]:\n",
    "    print(i)"
   ]
  },
  {
   "cell_type": "code",
   "execution_count": 8,
   "id": "fd1b82f8",
   "metadata": {
    "ExecuteTime": {
     "end_time": "2022-12-02T11:01:49.397470Z",
     "start_time": "2022-12-02T11:01:49.388489Z"
    }
   },
   "outputs": [
    {
     "name": "stdout",
     "output_type": "stream",
     "text": [
      "110\n",
      "210\n",
      "310\n"
     ]
    }
   ],
   "source": [
    "list1 = [100, 200, 300]\n",
    "\n",
    "for i in list1:\n",
    "    print(i+10)"
   ]
  },
  {
   "cell_type": "code",
   "execution_count": 9,
   "id": "8b7d4ff6",
   "metadata": {
    "ExecuteTime": {
     "end_time": "2022-12-02T11:02:29.340187Z",
     "start_time": "2022-12-02T11:02:29.325249Z"
    }
   },
   "outputs": [
    {
     "name": "stdout",
     "output_type": "stream",
     "text": [
      "오늘의 메뉴 : 김밥\n",
      "오늘의 메뉴 : 라면\n",
      "오늘의 메뉴 : 튀김\n"
     ]
    }
   ],
   "source": [
    "food = [\"김밥\", \"라면\", \"튀김\"]\n",
    "\n",
    "for i in food:\n",
    "    print(f\"오늘의 메뉴 : {i}\")"
   ]
  },
  {
   "cell_type": "code",
   "execution_count": 11,
   "id": "a87fde87",
   "metadata": {
    "ExecuteTime": {
     "end_time": "2022-12-02T11:03:19.168165Z",
     "start_time": "2022-12-02T11:03:19.156224Z"
    }
   },
   "outputs": [
    {
     "name": "stdout",
     "output_type": "stream",
     "text": [
      "6\n",
      "4\n",
      "4\n"
     ]
    }
   ],
   "source": [
    "com = [\"sk하이닉스\", \"삼성전자\", \"LG전자\"]\n",
    "\n",
    "for i in com:\n",
    "    print(len(i))"
   ]
  },
  {
   "cell_type": "code",
   "execution_count": 13,
   "id": "ee73b71f",
   "metadata": {
    "ExecuteTime": {
     "end_time": "2022-12-02T11:04:15.223441Z",
     "start_time": "2022-12-02T11:04:15.204466Z"
    }
   },
   "outputs": [
    {
     "name": "stdout",
     "output_type": "stream",
     "text": [
      "dog 3\n",
      "cat 3\n",
      "parrot 6\n"
     ]
    }
   ],
   "source": [
    "ani = ['dog', 'cat', 'parrot']\n",
    "\n",
    "for i in ani:\n",
    "    print(i,len(i))"
   ]
  },
  {
   "cell_type": "code",
   "execution_count": 14,
   "id": "8585616b",
   "metadata": {
    "ExecuteTime": {
     "end_time": "2022-12-02T11:04:53.303120Z",
     "start_time": "2022-12-02T11:04:53.293127Z"
    }
   },
   "outputs": [
    {
     "name": "stdout",
     "output_type": "stream",
     "text": [
      "3 x 1\n",
      "3 x 2\n",
      "3 x 3\n"
     ]
    }
   ],
   "source": [
    "num = [1, 2, 3]\n",
    "\n",
    "for i in num:\n",
    "    print(f'3 x {i}')"
   ]
  },
  {
   "cell_type": "code",
   "execution_count": 26,
   "id": "30ed4d5d",
   "metadata": {
    "ExecuteTime": {
     "end_time": "2022-12-02T11:06:48.102164Z",
     "start_time": "2022-12-02T11:06:48.094194Z"
    }
   },
   "outputs": [
    {
     "name": "stdout",
     "output_type": "stream",
     "text": [
      "나\n",
      "다\n",
      "라\n"
     ]
    }
   ],
   "source": [
    "text = [\"가\", \"나\", \"다\", \"라\"]\n",
    "\n",
    "# 리스트에 먼저 슬라이싱을 해준뒤에 출력하기\n",
    "for i in text[1:]:\n",
    "    print(i)"
   ]
  },
  {
   "cell_type": "code",
   "execution_count": 33,
   "id": "013990e0",
   "metadata": {
    "ExecuteTime": {
     "end_time": "2022-12-02T11:11:53.460128Z",
     "start_time": "2022-12-02T11:11:53.453154Z"
    }
   },
   "outputs": [
    {
     "name": "stdout",
     "output_type": "stream",
     "text": [
      "라\n",
      "다\n",
      "나\n",
      "가\n"
     ]
    }
   ],
   "source": [
    "text = [\"가\", \"나\", \"다\", \"라\"]\n",
    "\n",
    "# 증감폭을 음수로 설정하면 앞방향으로 값을 슬라이싱함\n",
    "# [시작 : 끝 : 인덱스증감폭]\n",
    "for i in text[::-1]:\n",
    "    print(i)"
   ]
  },
  {
   "cell_type": "code",
   "execution_count": 34,
   "id": "c8034557",
   "metadata": {
    "ExecuteTime": {
     "end_time": "2022-12-02T11:12:33.697780Z",
     "start_time": "2022-12-02T11:12:33.691775Z"
    }
   },
   "outputs": [
    {
     "name": "stdout",
     "output_type": "stream",
     "text": [
      "-20\n",
      "-3\n"
     ]
    }
   ],
   "source": [
    "num = [3, -20, -3, 44]\n",
    "\n",
    "for i in num:\n",
    "    if i < 0:\n",
    "        print(i)"
   ]
  },
  {
   "cell_type": "code",
   "execution_count": 35,
   "id": "9831a029",
   "metadata": {
    "ExecuteTime": {
     "end_time": "2022-12-02T11:13:05.415292Z",
     "start_time": "2022-12-02T11:13:05.404321Z"
    }
   },
   "outputs": [
    {
     "name": "stdout",
     "output_type": "stream",
     "text": [
      "3\n"
     ]
    }
   ],
   "source": [
    "num1 = [3, 100, 23, 44]\n",
    "\n",
    "for i in num1:\n",
    "    if i%3==0:\n",
    "        print(i)"
   ]
  },
  {
   "cell_type": "code",
   "execution_count": 36,
   "id": "491e642c",
   "metadata": {
    "ExecuteTime": {
     "end_time": "2022-12-02T11:14:07.409064Z",
     "start_time": "2022-12-02T11:14:07.397096Z"
    }
   },
   "outputs": [
    {
     "name": "stdout",
     "output_type": "stream",
     "text": [
      "12\n",
      "18\n"
     ]
    }
   ],
   "source": [
    "num2 = [13, 21, 12, 14, 30, 18]\n",
    "\n",
    "for i in num2:\n",
    "    if i%3==0 and i<20:\n",
    "        print(i)"
   ]
  },
  {
   "cell_type": "code",
   "execution_count": 37,
   "id": "849627ab",
   "metadata": {
    "ExecuteTime": {
     "end_time": "2022-12-02T11:15:01.542296Z",
     "start_time": "2022-12-02T11:15:01.533347Z"
    }
   },
   "outputs": [
    {
     "name": "stdout",
     "output_type": "stream",
     "text": [
      "study\n",
      "python\n",
      "language\n"
     ]
    }
   ],
   "source": [
    "txt1 = ['I', 'study', 'python', 'language', '!']\n",
    "\n",
    "for i in txt1:\n",
    "    if len(i) >= 3:\n",
    "        print(i)"
   ]
  },
  {
   "cell_type": "code",
   "execution_count": 42,
   "id": "7c6b6d00",
   "metadata": {
    "ExecuteTime": {
     "end_time": "2022-12-02T11:16:41.141330Z",
     "start_time": "2022-12-02T11:16:41.132330Z"
    }
   },
   "outputs": [
    {
     "name": "stdout",
     "output_type": "stream",
     "text": [
      "A\n",
      "D\n"
     ]
    }
   ],
   "source": [
    "alpha = ['A', 'b', 'c', 'D']\n",
    "\n",
    "# 대문자만 출력\n",
    "for i in alpha:\n",
    "    if i.isupper():\n",
    "        print(i)"
   ]
  },
  {
   "cell_type": "code",
   "execution_count": 46,
   "id": "e362a9f4",
   "metadata": {
    "ExecuteTime": {
     "end_time": "2022-12-02T11:18:47.599996Z",
     "start_time": "2022-12-02T11:18:47.580048Z"
    }
   },
   "outputs": [
    {
     "name": "stdout",
     "output_type": "stream",
     "text": [
      "b\n",
      "c\n",
      "b\n",
      "c\n",
      "b\n",
      "c\n"
     ]
    }
   ],
   "source": [
    "alpha = ['A', 'b', 'c', 'D']\n",
    "\n",
    "# 소문자만 출력\n",
    "for i in alpha:\n",
    "    if not i.isupper():\n",
    "        print(i)\n",
    "\n",
    "for i in alpha:\n",
    "    if i.isupper() == False:\n",
    "        print(i)\n",
    "        \n",
    "for i in alpha:\n",
    "    if i.isupper() != True:\n",
    "        print(i)"
   ]
  },
  {
   "cell_type": "code",
   "execution_count": 47,
   "id": "97966b25",
   "metadata": {
    "ExecuteTime": {
     "end_time": "2022-12-02T11:20:39.541859Z",
     "start_time": "2022-12-02T11:20:39.532883Z"
    }
   },
   "outputs": [
    {
     "name": "stdout",
     "output_type": "stream",
     "text": [
      "Dog\n",
      "Cat\n",
      "Parrot\n"
     ]
    }
   ],
   "source": [
    "ani = ['dog', 'cat', 'parrot']\n",
    "\n",
    "# 첫글자만 대문자로 바꿔서 출력하기\n",
    "for i in ani:\n",
    "    print(i[0].upper() + i[1:])"
   ]
  },
  {
   "cell_type": "code",
   "execution_count": 53,
   "id": "6e4b6a70",
   "metadata": {
    "ExecuteTime": {
     "end_time": "2022-12-02T11:45:05.386987Z",
     "start_time": "2022-12-02T11:45:05.372052Z"
    }
   },
   "outputs": [
    {
     "name": "stdout",
     "output_type": "stream",
     "text": [
      "hello\n",
      "ex01\n",
      "intro\n"
     ]
    }
   ],
   "source": [
    "txt2 = ['hello.py', 'ex01.py', 'intro.hwp']\n",
    "\n",
    "# split메소드 이용해서 . 앞쪽만 출력하기\n",
    "for i in txt2:\n",
    "    split = i.split('.')\n",
    "    print(split[0])\n",
    "    "
   ]
  },
  {
   "cell_type": "code",
   "execution_count": 55,
   "id": "a01b85a7",
   "metadata": {
    "ExecuteTime": {
     "end_time": "2022-12-02T11:47:23.880964Z",
     "start_time": "2022-12-02T11:47:23.867997Z"
    }
   },
   "outputs": [
    {
     "name": "stdout",
     "output_type": "stream",
     "text": [
      "intra.h\n",
      "intra.c\n",
      "define.h\n"
     ]
    }
   ],
   "source": [
    "txt3 = ['intra.h', 'intra.c', 'define.h', 'run.py']\n",
    "\n",
    "for i in txt3:\n",
    "    split = i.split('.')\n",
    "    if 'c' in split[1] or 'h' in split[1]:\n",
    "        print(i)"
   ]
  },
  {
   "cell_type": "code",
   "execution_count": 57,
   "id": "0c53674d",
   "metadata": {
    "ExecuteTime": {
     "end_time": "2022-12-02T11:48:16.041954Z",
     "start_time": "2022-12-02T11:48:16.028988Z"
    }
   },
   "outputs": [
    {
     "name": "stdout",
     "output_type": "stream",
     "text": [
      "2002\n",
      "2006\n",
      "2010\n",
      "2014\n",
      "2018\n",
      "2022\n",
      "2026\n",
      "2030\n",
      "2034\n",
      "2038\n",
      "2042\n",
      "2046\n",
      "2050\n"
     ]
    }
   ],
   "source": [
    "for i in range(2002, 2051, 4):\n",
    "    print(i)"
   ]
  },
  {
   "cell_type": "code",
   "execution_count": 59,
   "id": "73be082a",
   "metadata": {
    "ExecuteTime": {
     "end_time": "2022-12-02T11:48:43.443271Z",
     "start_time": "2022-12-02T11:48:43.427292Z"
    }
   },
   "outputs": [
    {
     "name": "stdout",
     "output_type": "stream",
     "text": [
      "3\n",
      "6\n",
      "9\n",
      "12\n",
      "15\n",
      "18\n",
      "21\n",
      "24\n",
      "27\n",
      "30\n"
     ]
    }
   ],
   "source": [
    "for i in range(3, 31, 3):\n",
    "    print(i)"
   ]
  },
  {
   "cell_type": "code",
   "execution_count": 61,
   "id": "c14b85c7",
   "metadata": {
    "ExecuteTime": {
     "end_time": "2022-12-02T11:49:56.705725Z",
     "start_time": "2022-12-02T11:49:56.692759Z"
    }
   },
   "outputs": [
    {
     "name": "stdout",
     "output_type": "stream",
     "text": [
      "0.0\n",
      "0.1\n",
      "0.2\n",
      "0.3\n",
      "0.4\n",
      "0.5\n",
      "0.6\n",
      "0.7\n",
      "0.8\n",
      "0.9\n"
     ]
    }
   ],
   "source": [
    "for i in range(10):\n",
    "    print(i / 10)"
   ]
  },
  {
   "cell_type": "code",
   "execution_count": 67,
   "id": "bca2a15d",
   "metadata": {
    "ExecuteTime": {
     "end_time": "2022-12-02T11:54:29.763620Z",
     "start_time": "2022-12-02T11:54:29.748659Z"
    }
   },
   "outputs": [
    {
     "name": "stdout",
     "output_type": "stream",
     "text": [
      "3x1 = 3\n",
      "3x2 = 6\n",
      "3x3 = 9\n",
      "3x4 = 12\n",
      "3x5 = 15\n",
      "3x6 = 18\n",
      "3x7 = 21\n",
      "3x8 = 24\n",
      "3x9 = 27\n",
      "3x1 = 3\n",
      "3x2 = 6\n",
      "3x3 = 9\n",
      "3x4 = 12\n",
      "3x5 = 15\n",
      "3x6 = 18\n",
      "3x7 = 21\n",
      "3x8 = 24\n",
      "3x9 = 27\n"
     ]
    }
   ],
   "source": [
    "cnt = 0\n",
    "\n",
    "for i in range(3, 28, 3):\n",
    "    cnt += 1\n",
    "    print(f'3x{cnt} = {i}')\n",
    "    \n",
    "for i in range(1, 10):\n",
    "    print(f'3x{i} = {3*i}')"
   ]
  },
  {
   "cell_type": "code",
   "execution_count": 73,
   "id": "c9acf4ff",
   "metadata": {
    "ExecuteTime": {
     "end_time": "2022-12-03T04:03:59.070196Z",
     "start_time": "2022-12-03T04:03:59.057230Z"
    }
   },
   "outputs": [
    {
     "name": "stdout",
     "output_type": "stream",
     "text": [
      "1\n",
      "3\n",
      "6\n",
      "10\n",
      "15\n",
      "21\n",
      "28\n",
      "36\n",
      "45\n",
      "55\n"
     ]
    }
   ],
   "source": [
    "num = 0\n",
    "for i in range(1, 11):\n",
    "    num += i\n",
    "    print(num)"
   ]
  },
  {
   "cell_type": "code",
   "execution_count": 74,
   "id": "4f9269e5",
   "metadata": {
    "ExecuteTime": {
     "end_time": "2022-12-03T04:06:45.550502Z",
     "start_time": "2022-12-03T04:06:45.532575Z"
    }
   },
   "outputs": [
    {
     "name": "stdout",
     "output_type": "stream",
     "text": [
      "25\n"
     ]
    }
   ],
   "source": [
    "num = 0\n",
    "\n",
    "for i in range(1,11):\n",
    "    if i%2==1:\n",
    "        num += i\n",
    "print(num)\n",
    "        "
   ]
  },
  {
   "cell_type": "code",
   "execution_count": 76,
   "id": "8496d6fa",
   "metadata": {
    "ExecuteTime": {
     "end_time": "2022-12-03T04:07:33.279830Z",
     "start_time": "2022-12-03T04:07:33.266890Z"
    }
   },
   "outputs": [
    {
     "name": "stdout",
     "output_type": "stream",
     "text": [
      "3628800\n"
     ]
    }
   ],
   "source": [
    "num = 1\n",
    "\n",
    "for i in range(1,11):\n",
    "    num *= i\n",
    "print(num)"
   ]
  },
  {
   "cell_type": "code",
   "execution_count": 82,
   "id": "b8715972",
   "metadata": {
    "ExecuteTime": {
     "end_time": "2022-12-03T04:11:29.356144Z",
     "start_time": "2022-12-03T04:11:29.341183Z"
    }
   },
   "outputs": [
    {
     "name": "stdout",
     "output_type": "stream",
     "text": [
      "0 32100\n",
      "1 32150\n",
      "2 32000\n",
      "3 32500\n"
     ]
    }
   ],
   "source": [
    "price_list = [32100, 32150, 32000, 32500]\n",
    "\n",
    "# for i in range(0, len(price_list), 1):\n",
    "#     print(i , i[0])\n",
    "    \n",
    "    \n",
    "for i, data in enumerate(price_list):\n",
    "    print(i, data)"
   ]
  },
  {
   "cell_type": "code",
   "execution_count": 83,
   "id": "9739bca2",
   "metadata": {
    "ExecuteTime": {
     "end_time": "2022-12-03T04:28:57.077582Z",
     "start_time": "2022-12-03T04:28:57.071599Z"
    }
   },
   "outputs": [
    {
     "name": "stdout",
     "output_type": "stream",
     "text": [
      "3 32100\n",
      "2 32150\n",
      "1 32000\n",
      "0 32500\n"
     ]
    }
   ],
   "source": [
    "price_list = [32100, 32150, 32000, 32500]\n",
    "\n",
    "# 내림차순 정렬을 해야하고 인덱스는 0번부터 시작하니까 마지막 인덱스의 번호는 2번\n",
    "# ㄴ> 그래서 print문에 3-i를 적어주는것(i는 1부터 시작이니까)\n",
    "for i in range(len(price_list)):\n",
    "    print(3-i, price_list[i])"
   ]
  },
  {
   "cell_type": "code",
   "execution_count": 86,
   "id": "c3b5f823",
   "metadata": {
    "ExecuteTime": {
     "end_time": "2022-12-03T04:36:28.708175Z",
     "start_time": "2022-12-03T04:36:28.696174Z"
    }
   },
   "outputs": [
    {
     "name": "stdout",
     "output_type": "stream",
     "text": [
      "100 32150\n",
      "110 32000\n",
      "120 32500\n"
     ]
    }
   ],
   "source": [
    "price_list = [32100, 32150, 32000, 32500]\n",
    "\n",
    "for i in range(1,4):\n",
    "    print(90+10*i, price_list[i])"
   ]
  },
  {
   "cell_type": "code",
   "execution_count": 87,
   "id": "f831556f",
   "metadata": {
    "ExecuteTime": {
     "end_time": "2022-12-03T04:37:53.408277Z",
     "start_time": "2022-12-03T04:37:53.400272Z"
    }
   },
   "outputs": [
    {
     "name": "stdout",
     "output_type": "stream",
     "text": [
      "가 나\n",
      "나 다\n",
      "다 라\n"
     ]
    }
   ],
   "source": [
    "my_list = ['가' ,'나', '다', '라']\n",
    "\n",
    "print(my_list[0], my_list[1])\n",
    "print(my_list[1], my_list[2])\n",
    "print(my_list[2], my_list[3])"
   ]
  },
  {
   "cell_type": "code",
   "execution_count": 88,
   "id": "f0525bbb",
   "metadata": {
    "ExecuteTime": {
     "end_time": "2022-12-03T04:38:30.473645Z",
     "start_time": "2022-12-03T04:38:30.466637Z"
    }
   },
   "outputs": [
    {
     "name": "stdout",
     "output_type": "stream",
     "text": [
      "라 다\n",
      "다 나\n",
      "나 가\n"
     ]
    }
   ],
   "source": [
    "my_list = ['가' ,'나', '다', '라']\n",
    "\n",
    "print(my_list[3], my_list[2])\n",
    "print(my_list[2], my_list[1])\n",
    "print(my_list[1], my_list[0])"
   ]
  },
  {
   "cell_type": "code",
   "execution_count": 89,
   "id": "dc4b7004",
   "metadata": {
    "ExecuteTime": {
     "end_time": "2022-12-03T04:39:50.831137Z",
     "start_time": "2022-12-03T04:39:50.814160Z"
    }
   },
   "outputs": [
    {
     "name": "stdout",
     "output_type": "stream",
     "text": [
      "100\n",
      "200\n",
      "400\n"
     ]
    }
   ],
   "source": [
    "my_list = [100,200,400,800]\n",
    "\n",
    "for i in my_list[:3]:\n",
    "    print(i)"
   ]
  },
  {
   "cell_type": "code",
   "execution_count": 91,
   "id": "efa4a210",
   "metadata": {
    "ExecuteTime": {
     "end_time": "2022-12-03T04:42:57.083028Z",
     "start_time": "2022-12-03T04:42:57.078041Z"
    }
   },
   "outputs": [
    {
     "name": "stdout",
     "output_type": "stream",
     "text": [
      "33.333333333333336\n",
      "100.0\n",
      "233.33333333333334\n"
     ]
    }
   ],
   "source": [
    "my_list = [100,200,400,800,1000,1300]\n",
    "num = 0\n",
    "\n",
    "for i in my_list[:3]:\n",
    "    num += i\n",
    "    print(num/3)"
   ]
  },
  {
   "cell_type": "code",
   "execution_count": 92,
   "id": "273e0001",
   "metadata": {
    "ExecuteTime": {
     "end_time": "2022-12-03T05:20:24.371038Z",
     "start_time": "2022-12-03T05:20:24.366053Z"
    }
   },
   "outputs": [
    {
     "name": "stdout",
     "output_type": "stream",
     "text": [
      "233.33333333333334\n",
      "466.6666666666667\n",
      "733.3333333333334\n",
      "1033.3333333333333\n"
     ]
    }
   ],
   "source": [
    "my_list = [100,200,400,800,1000,1300]\n",
    "\n",
    "for i in range(1, len(my_list) - 1):\n",
    "    print(abs(my_list[i-1] + my_list[i] + my_list[i+1]) / 3)"
   ]
  },
  {
   "cell_type": "code",
   "execution_count": 94,
   "id": "ca64a906",
   "metadata": {
    "ExecuteTime": {
     "end_time": "2022-12-03T05:24:04.247592Z",
     "start_time": "2022-12-03T05:24:04.235632Z"
    }
   },
   "outputs": [
    {
     "name": "stdout",
     "output_type": "stream",
     "text": [
      "[50, 100, 30, 80, 0]\n"
     ]
    }
   ],
   "source": [
    "low_prices  = [100, 200, 400, 800, 1000]\n",
    "high_prices = [150, 300, 430, 880, 1000]\n",
    "v = []\n",
    "\n",
    "for i in range(len(low_prices)):\n",
    "    v.append(high_prices[i] - low_prices[i])\n",
    "\n",
    "print(v)\n",
    "\n",
    "# v 라는 리스트를 선언하고 그 안에 append시켜줘야함\n",
    "# 0번 인덱스부터 차례대로 마이너스값이 들어감"
   ]
  },
  {
   "cell_type": "code",
   "execution_count": 97,
   "id": "d745540d",
   "metadata": {
    "ExecuteTime": {
     "end_time": "2022-12-03T05:27:23.757098Z",
     "start_time": "2022-12-03T05:27:23.737453Z"
    }
   },
   "outputs": [
    {
     "name": "stdout",
     "output_type": "stream",
     "text": [
      "[['101호', '102호'], ['201호', '202호'], ['301호', '302호']]\n"
     ]
    }
   ],
   "source": [
    "apart = [['101호', '102호'], ['201호', '202호'], ['301호', '302호']]\n",
    "\n",
    "apart"
   ]
  },
  {
   "cell_type": "code",
   "execution_count": 99,
   "id": "5181d918",
   "metadata": {
    "ExecuteTime": {
     "end_time": "2022-12-03T05:29:09.962621Z",
     "start_time": "2022-12-03T05:29:09.949655Z"
    }
   },
   "outputs": [
    {
     "data": {
      "text/plain": [
       "[['시가', 100, 200, 300], ['종가', 80, 210, 330]]"
      ]
     },
     "execution_count": 99,
     "metadata": {},
     "output_type": "execute_result"
    }
   ],
   "source": [
    "stock = [['시가', 100, 200, 300],['종가', 80, 210, 330]]\n",
    "\n",
    "stock"
   ]
  },
  {
   "cell_type": "code",
   "execution_count": 102,
   "id": "43dbc994",
   "metadata": {
    "ExecuteTime": {
     "end_time": "2022-12-03T05:32:39.779389Z",
     "start_time": "2022-12-03T05:32:39.773404Z"
    }
   },
   "outputs": [],
   "source": [
    "stock = {\"10/10\" : [80, 110, 70, 90], '10/11' : [210, 230, 190, 200]}"
   ]
  },
  {
   "cell_type": "code",
   "execution_count": 108,
   "id": "73550d87",
   "metadata": {
    "ExecuteTime": {
     "end_time": "2022-12-03T05:34:46.276506Z",
     "start_time": "2022-12-03T05:34:46.268527Z"
    }
   },
   "outputs": [
    {
     "name": "stdout",
     "output_type": "stream",
     "text": [
      "101 호\n",
      "102 호\n",
      "201 호\n",
      "202 호\n",
      "301 호\n",
      "302 호\n"
     ]
    }
   ],
   "source": [
    "apart = [[101, 102], [201, 202], [301, 302]]\n",
    "\n",
    "for row in apart:\n",
    "    for col in row:\n",
    "        print(col ,'호')\n",
    "        \n",
    "# 0번 인덱스의 0번 부터 차례대로 꺼내와서 '호'를 붙여 출력해야하기때문에\n",
    "# 이중 for문안에 담아줘야한다\n",
    "# row = [[101, 102]], col = [101 *여기에 접근, 102]"
   ]
  },
  {
   "cell_type": "code",
   "execution_count": 111,
   "id": "48179389",
   "metadata": {
    "ExecuteTime": {
     "end_time": "2022-12-03T05:38:42.966991Z",
     "start_time": "2022-12-03T05:38:42.949039Z"
    }
   },
   "outputs": [
    {
     "name": "stdout",
     "output_type": "stream",
     "text": [
      "302 호\n",
      "301 호\n",
      "202 호\n",
      "201 호\n",
      "102 호\n",
      "101 호\n"
     ]
    }
   ],
   "source": [
    "apart = [[101, 102], [201, 202], [301, 302]]\n",
    "\n",
    "for row in apart[::-1]:\n",
    "    for col in row[::-1]:\n",
    "        print(col, '호')"
   ]
  },
  {
   "cell_type": "code",
   "execution_count": 112,
   "id": "a9a0bfe8",
   "metadata": {
    "ExecuteTime": {
     "end_time": "2022-12-03T05:40:51.145129Z",
     "start_time": "2022-12-03T05:40:51.138117Z"
    }
   },
   "outputs": [
    {
     "name": "stdout",
     "output_type": "stream",
     "text": [
      "101 호\n",
      "-----\n",
      "102 호\n",
      "-----\n",
      "201 호\n",
      "-----\n",
      "202 호\n",
      "-----\n",
      "301 호\n",
      "-----\n",
      "302 호\n",
      "-----\n"
     ]
    }
   ],
   "source": [
    "apart = [[101, 102], [201, 202], [301, 302]]\n",
    "\n",
    "for i in apart:\n",
    "    for j in i:\n",
    "        print(j, '호')\n",
    "        print('-----')"
   ]
  },
  {
   "cell_type": "code",
   "execution_count": 116,
   "id": "119366ee",
   "metadata": {
    "ExecuteTime": {
     "end_time": "2022-12-03T05:41:47.573186Z",
     "start_time": "2022-12-03T05:41:47.566180Z"
    }
   },
   "outputs": [
    {
     "name": "stdout",
     "output_type": "stream",
     "text": [
      "101 호\n",
      "102 호\n",
      "------\n",
      "201 호\n",
      "202 호\n",
      "------\n",
      "301 호\n",
      "302 호\n",
      "------\n"
     ]
    }
   ],
   "source": [
    "apart = [[101, 102], [201, 202], [301, 302]]\n",
    "\n",
    "for i in apart:\n",
    "    for j in i:\n",
    "        print(j, '호')\n",
    "    print('------')"
   ]
  },
  {
   "cell_type": "code",
   "execution_count": 117,
   "id": "bf7643d7",
   "metadata": {
    "ExecuteTime": {
     "end_time": "2022-12-03T05:42:15.174202Z",
     "start_time": "2022-12-03T05:42:15.161237Z"
    }
   },
   "outputs": [
    {
     "name": "stdout",
     "output_type": "stream",
     "text": [
      "101 호\n",
      "102 호\n",
      "201 호\n",
      "202 호\n",
      "301 호\n",
      "302 호\n",
      "------\n"
     ]
    }
   ],
   "source": [
    "apart = [[101, 102], [201, 202], [301, 302]]\n",
    "\n",
    "for i in apart:\n",
    "    for j in i:\n",
    "        print(j, '호')\n",
    "print('------')"
   ]
  },
  {
   "cell_type": "code",
   "execution_count": 120,
   "id": "deefa1f8",
   "metadata": {
    "ExecuteTime": {
     "end_time": "2022-12-03T05:44:08.203292Z",
     "start_time": "2022-12-03T05:44:08.186338Z"
    }
   },
   "outputs": [
    {
     "name": "stdout",
     "output_type": "stream",
     "text": [
      "2000.28\n",
      "3050.427\n",
      "2050.2870000000003\n",
      "1980.2772\n",
      "7501.05\n",
      "2050.2870000000003\n",
      "2050.2870000000003\n",
      "1980.2772\n",
      "15452.163\n",
      "15052.107\n",
      "15552.177\n",
      "14902.086000000001\n"
     ]
    }
   ],
   "source": [
    "data = [\n",
    "    [ 2000,  3050,  2050,  1980],\n",
    "    [ 7500,  2050,  2050,  1980],\n",
    "    [15450, 15050, 15550, 14900]\n",
    "]\n",
    "\n",
    "for i in data:\n",
    "    for j in i:\n",
    "        print(j*1.00014)"
   ]
  },
  {
   "cell_type": "code",
   "execution_count": 122,
   "id": "27c8acdc",
   "metadata": {
    "ExecuteTime": {
     "end_time": "2022-12-03T05:44:37.756138Z",
     "start_time": "2022-12-03T05:44:37.751148Z"
    }
   },
   "outputs": [
    {
     "name": "stdout",
     "output_type": "stream",
     "text": [
      "2000.28\n",
      "3050.427\n",
      "2050.2870000000003\n",
      "1980.2772\n",
      "-------------------\n",
      "7501.05\n",
      "2050.2870000000003\n",
      "2050.2870000000003\n",
      "1980.2772\n",
      "-------------------\n",
      "15452.163\n",
      "15052.107\n",
      "15552.177\n",
      "14902.086000000001\n",
      "-------------------\n"
     ]
    }
   ],
   "source": [
    "data = [\n",
    "    [ 2000,  3050,  2050,  1980],\n",
    "    [ 7500,  2050,  2050,  1980],\n",
    "    [15450, 15050, 15550, 14900]\n",
    "]\n",
    "\n",
    "for i in data:\n",
    "    for j in i:\n",
    "        print(j*1.00014)\n",
    "    print('-------------------')"
   ]
  },
  {
   "cell_type": "code",
   "execution_count": 125,
   "id": "9afc73b6",
   "metadata": {
    "ExecuteTime": {
     "end_time": "2022-12-03T05:45:40.452142Z",
     "start_time": "2022-12-03T05:45:40.446132Z"
    }
   },
   "outputs": [
    {
     "name": "stdout",
     "output_type": "stream",
     "text": [
      "[2000.28, 3050.427, 2050.2870000000003, 1980.2772, 7501.05, 2050.2870000000003, 2050.2870000000003, 1980.2772, 15452.163, 15052.107, 15552.177, 14902.086000000001]\n"
     ]
    }
   ],
   "source": [
    "data = [\n",
    "    [ 2000,  3050,  2050,  1980],\n",
    "    [ 7500,  2050,  2050,  1980],\n",
    "    [15450, 15050, 15550, 14900]\n",
    "]\n",
    "result =[]\n",
    "\n",
    "for i in data:\n",
    "    for j in i:\n",
    "        result.append(j*1.00014)\n",
    "print(result)"
   ]
  },
  {
   "cell_type": "code",
   "execution_count": 127,
   "id": "19821e6f",
   "metadata": {
    "ExecuteTime": {
     "end_time": "2022-12-03T05:47:20.993564Z",
     "start_time": "2022-12-03T05:47:20.983591Z"
    }
   },
   "outputs": [
    {
     "name": "stdout",
     "output_type": "stream",
     "text": [
      "[[2000.28, 3050.427, 2050.2870000000003, 1980.2772], [7501.05, 2050.2870000000003, 2050.2870000000003, 1980.2772], [15452.163, 15052.107, 15552.177, 14902.086000000001]]\n"
     ]
    }
   ],
   "source": [
    "data = [\n",
    "    [ 2000,  3050,  2050,  1980],\n",
    "    [ 7500,  2050,  2050,  1980],\n",
    "    [15450, 15050, 15550, 14900]\n",
    "]\n",
    "result =[]\n",
    "\n",
    "for i in data:\n",
    "    sub = []\n",
    "    for j in i:\n",
    "        sub.append(j*1.00014)\n",
    "    result.append(sub)\n",
    "print(result)\n",
    "\n",
    "# 안쪽 for문안에 먼저 배열저장을 해준 뒤에 바깥 for문으로 나와서 배열저장을 해줘야함"
   ]
  },
  {
   "cell_type": "code",
   "execution_count": null,
   "id": "2397bcbb",
   "metadata": {},
   "outputs": [],
   "source": [
    "###################################################### 195\n",
    "\n",
    "ohlc = [[\"open\", \"high\", \"low\", \"close\"],\n",
    "        [100, 110, 70, 100],\n",
    "        [200, 210, 180, 190],\n",
    "        [300, 310, 300, 310]]"
   ]
  },
  {
   "cell_type": "code",
   "execution_count": null,
   "id": "a8fbd91f",
   "metadata": {},
   "outputs": [],
   "source": []
  },
  {
   "cell_type": "code",
   "execution_count": null,
   "id": "0b444940",
   "metadata": {},
   "outputs": [],
   "source": []
  },
  {
   "cell_type": "code",
   "execution_count": null,
   "id": "d5fd1802",
   "metadata": {},
   "outputs": [],
   "source": []
  },
  {
   "cell_type": "code",
   "execution_count": null,
   "id": "16a4988e",
   "metadata": {},
   "outputs": [],
   "source": []
  },
  {
   "cell_type": "code",
   "execution_count": null,
   "id": "5e95c121",
   "metadata": {},
   "outputs": [],
   "source": []
  },
  {
   "cell_type": "code",
   "execution_count": null,
   "id": "16a6582d",
   "metadata": {},
   "outputs": [],
   "source": []
  },
  {
   "cell_type": "code",
   "execution_count": null,
   "id": "0dede2ea",
   "metadata": {},
   "outputs": [],
   "source": []
  },
  {
   "cell_type": "code",
   "execution_count": null,
   "id": "8937e4f3",
   "metadata": {},
   "outputs": [],
   "source": []
  },
  {
   "cell_type": "code",
   "execution_count": null,
   "id": "0bddb721",
   "metadata": {},
   "outputs": [],
   "source": []
  },
  {
   "cell_type": "code",
   "execution_count": null,
   "id": "42385f2a",
   "metadata": {},
   "outputs": [],
   "source": []
  },
  {
   "cell_type": "code",
   "execution_count": null,
   "id": "24d77977",
   "metadata": {},
   "outputs": [],
   "source": []
  },
  {
   "cell_type": "code",
   "execution_count": null,
   "id": "0a7171a3",
   "metadata": {},
   "outputs": [],
   "source": []
  },
  {
   "cell_type": "code",
   "execution_count": null,
   "id": "0c9ff8de",
   "metadata": {},
   "outputs": [],
   "source": []
  },
  {
   "cell_type": "code",
   "execution_count": null,
   "id": "3e67a4e2",
   "metadata": {},
   "outputs": [],
   "source": []
  },
  {
   "cell_type": "code",
   "execution_count": null,
   "id": "7a297d03",
   "metadata": {},
   "outputs": [],
   "source": []
  },
  {
   "cell_type": "code",
   "execution_count": null,
   "id": "cfc645a7",
   "metadata": {},
   "outputs": [],
   "source": []
  },
  {
   "cell_type": "code",
   "execution_count": null,
   "id": "12cb64e9",
   "metadata": {},
   "outputs": [],
   "source": []
  },
  {
   "cell_type": "code",
   "execution_count": null,
   "id": "464912cd",
   "metadata": {},
   "outputs": [],
   "source": []
  },
  {
   "cell_type": "code",
   "execution_count": null,
   "id": "2878d815",
   "metadata": {},
   "outputs": [],
   "source": []
  },
  {
   "cell_type": "code",
   "execution_count": null,
   "id": "eb9fcf81",
   "metadata": {},
   "outputs": [],
   "source": []
  },
  {
   "cell_type": "code",
   "execution_count": null,
   "id": "34c54e46",
   "metadata": {},
   "outputs": [],
   "source": []
  },
  {
   "cell_type": "code",
   "execution_count": null,
   "id": "6347ad5d",
   "metadata": {},
   "outputs": [],
   "source": []
  },
  {
   "cell_type": "code",
   "execution_count": null,
   "id": "faa0b64b",
   "metadata": {},
   "outputs": [],
   "source": []
  },
  {
   "cell_type": "code",
   "execution_count": null,
   "id": "9d4db9e9",
   "metadata": {},
   "outputs": [],
   "source": []
  },
  {
   "cell_type": "code",
   "execution_count": null,
   "id": "bb2fb0fe",
   "metadata": {},
   "outputs": [],
   "source": []
  },
  {
   "cell_type": "code",
   "execution_count": null,
   "id": "09c66483",
   "metadata": {},
   "outputs": [],
   "source": []
  },
  {
   "cell_type": "code",
   "execution_count": null,
   "id": "25a0d542",
   "metadata": {},
   "outputs": [],
   "source": []
  },
  {
   "cell_type": "code",
   "execution_count": null,
   "id": "7a1dc88c",
   "metadata": {},
   "outputs": [],
   "source": []
  },
  {
   "cell_type": "code",
   "execution_count": null,
   "id": "2f1098f2",
   "metadata": {},
   "outputs": [],
   "source": []
  },
  {
   "cell_type": "code",
   "execution_count": null,
   "id": "efee1bb4",
   "metadata": {},
   "outputs": [],
   "source": []
  },
  {
   "cell_type": "code",
   "execution_count": null,
   "id": "fce00ba3",
   "metadata": {},
   "outputs": [],
   "source": []
  },
  {
   "cell_type": "code",
   "execution_count": null,
   "id": "5ee1b643",
   "metadata": {},
   "outputs": [],
   "source": []
  },
  {
   "cell_type": "code",
   "execution_count": null,
   "id": "40700bb2",
   "metadata": {},
   "outputs": [],
   "source": []
  },
  {
   "cell_type": "code",
   "execution_count": null,
   "id": "05e9985a",
   "metadata": {},
   "outputs": [],
   "source": []
  },
  {
   "cell_type": "code",
   "execution_count": null,
   "id": "49f43819",
   "metadata": {},
   "outputs": [],
   "source": []
  },
  {
   "cell_type": "code",
   "execution_count": null,
   "id": "81292d64",
   "metadata": {},
   "outputs": [],
   "source": []
  }
 ],
 "metadata": {
  "kernelspec": {
   "display_name": "Python 3 (ipykernel)",
   "language": "python",
   "name": "python3"
  },
  "language_info": {
   "codemirror_mode": {
    "name": "ipython",
    "version": 3
   },
   "file_extension": ".py",
   "mimetype": "text/x-python",
   "name": "python",
   "nbconvert_exporter": "python",
   "pygments_lexer": "ipython3",
   "version": "3.9.13"
  },
  "toc": {
   "base_numbering": 1,
   "nav_menu": {},
   "number_sections": true,
   "sideBar": true,
   "skip_h1_title": false,
   "title_cell": "Table of Contents",
   "title_sidebar": "Contents",
   "toc_cell": false,
   "toc_position": {},
   "toc_section_display": true,
   "toc_window_display": false
  }
 },
 "nbformat": 4,
 "nbformat_minor": 5
}
