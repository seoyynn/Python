{
 "cells": [
  {
   "cell_type": "code",
   "execution_count": 3,
   "id": "b52cd7b1",
   "metadata": {
    "ExecuteTime": {
     "end_time": "2022-12-06T05:35:48.530430Z",
     "start_time": "2022-12-06T05:35:48.524476Z"
    }
   },
   "outputs": [],
   "source": [
    "# 모듈 사용해보기\n",
    "import cal_key_1 as ck"
   ]
  },
  {
   "cell_type": "code",
   "execution_count": 4,
   "id": "c7514676",
   "metadata": {
    "ExecuteTime": {
     "end_time": "2022-12-06T05:35:49.981426Z",
     "start_time": "2022-12-06T05:35:49.964474Z"
    }
   },
   "outputs": [
    {
     "data": {
      "text/plain": [
       "30"
      ]
     },
     "execution_count": 4,
     "metadata": {},
     "output_type": "execute_result"
    }
   ],
   "source": [
    "# 더하기 기능 실행해보기\n",
    "ck.add(10, 20) # 함수 속성을 확인 shift + tab"
   ]
  },
  {
   "cell_type": "code",
   "execution_count": 5,
   "id": "a4ce2fbd",
   "metadata": {
    "ExecuteTime": {
     "end_time": "2022-12-06T05:36:07.779759Z",
     "start_time": "2022-12-06T05:36:07.764771Z"
    }
   },
   "outputs": [
    {
     "data": {
      "text/plain": [
       "17"
      ]
     },
     "execution_count": 5,
     "metadata": {},
     "output_type": "execute_result"
    }
   ],
   "source": [
    "# 빼기 기능 실행해보기\n",
    "ck.sub(20, 3)"
   ]
  },
  {
   "cell_type": "code",
   "execution_count": 6,
   "id": "9e999024",
   "metadata": {
    "ExecuteTime": {
     "end_time": "2022-12-06T05:37:39.290409Z",
     "start_time": "2022-12-06T05:37:39.284457Z"
    }
   },
   "outputs": [],
   "source": [
    "from cal_key_1 import mul"
   ]
  },
  {
   "cell_type": "code",
   "execution_count": 7,
   "id": "ae19e822",
   "metadata": {
    "ExecuteTime": {
     "end_time": "2022-12-06T05:37:59.877731Z",
     "start_time": "2022-12-06T05:37:59.859779Z"
    }
   },
   "outputs": [
    {
     "data": {
      "text/plain": [
       "24"
      ]
     },
     "execution_count": 7,
     "metadata": {},
     "output_type": "execute_result"
    }
   ],
   "source": [
    "mul(12, 2)"
   ]
  },
  {
   "cell_type": "code",
   "execution_count": null,
   "id": "a9ea013b",
   "metadata": {},
   "outputs": [],
   "source": []
  }
 ],
 "metadata": {
  "kernelspec": {
   "display_name": "Python 3 (ipykernel)",
   "language": "python",
   "name": "python3"
  },
  "language_info": {
   "codemirror_mode": {
    "name": "ipython",
    "version": 3
   },
   "file_extension": ".py",
   "mimetype": "text/x-python",
   "name": "python",
   "nbconvert_exporter": "python",
   "pygments_lexer": "ipython3",
   "version": "3.9.13"
  },
  "toc": {
   "base_numbering": 1,
   "nav_menu": {},
   "number_sections": true,
   "sideBar": true,
   "skip_h1_title": false,
   "title_cell": "Table of Contents",
   "title_sidebar": "Contents",
   "toc_cell": false,
   "toc_position": {},
   "toc_section_display": true,
   "toc_window_display": false
  }
 },
 "nbformat": 4,
 "nbformat_minor": 5
}
