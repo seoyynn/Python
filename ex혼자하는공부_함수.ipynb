{
 "cells": [
  {
   "cell_type": "code",
   "execution_count": 3,
   "id": "4b27aef1",
   "metadata": {
    "ExecuteTime": {
     "end_time": "2022-12-05T08:19:40.301564Z",
     "start_time": "2022-12-05T08:19:40.285609Z"
    }
   },
   "outputs": [
    {
     "data": {
      "text/plain": [
       "<function __main__.print_coin()>"
      ]
     },
     "execution_count": 3,
     "metadata": {},
     "output_type": "execute_result"
    }
   ],
   "source": [
    "def print_coin():\n",
    "    print('비트코인')"
   ]
  },
  {
   "cell_type": "code",
   "execution_count": 5,
   "id": "cfcd1d54",
   "metadata": {
    "ExecuteTime": {
     "end_time": "2022-12-05T08:20:14.035798Z",
     "start_time": "2022-12-05T08:20:14.021602Z"
    }
   },
   "outputs": [
    {
     "name": "stdout",
     "output_type": "stream",
     "text": [
      "비트코인\n"
     ]
    }
   ],
   "source": [
    "print_coin()"
   ]
  },
  {
   "cell_type": "code",
   "execution_count": 8,
   "id": "900d7d0f",
   "metadata": {
    "ExecuteTime": {
     "end_time": "2022-12-05T08:21:46.250656Z",
     "start_time": "2022-12-05T08:21:46.238845Z"
    }
   },
   "outputs": [],
   "source": [
    "def print_coin():\n",
    "    for i in range(100):\n",
    "        print('비트코인')"
   ]
  },
  {
   "cell_type": "markdown",
   "id": "79ce587e",
   "metadata": {},
   "source": [
    "hello 함수를 선언하기 전에 먼저 호출했기때문에"
   ]
  },
  {
   "attachments": {
    "image.png": {
     "image/png": "[encoded data removed]"
    }
   },
   "cell_type": "markdown",
   "id": "e266bf9d",
   "metadata": {},
   "source": [
    "![image.png](attachment:image.png)"
   ]
  },
  {
   "cell_type": "code",
   "execution_count": 9,
   "id": "ef923553",
   "metadata": {
    "ExecuteTime": {
     "end_time": "2022-12-05T08:25:16.860479Z",
     "start_time": "2022-12-05T08:25:16.847538Z"
    }
   },
   "outputs": [],
   "source": [
    "def print_with_smile():\n",
    "    print(':D')"
   ]
  },
  {
   "cell_type": "code",
   "execution_count": 13,
   "id": "465e7ff8",
   "metadata": {
    "ExecuteTime": {
     "end_time": "2022-12-05T08:27:19.799953Z",
     "start_time": "2022-12-05T08:27:19.780785Z"
    }
   },
   "outputs": [
    {
     "name": "stdout",
     "output_type": "stream",
     "text": [
      "안녕하새요:D\n"
     ]
    }
   ],
   "source": [
    "print('안녕하새요', end ='')\n",
    "print_with_smile()"
   ]
  },
  {
   "cell_type": "code",
   "execution_count": 14,
   "id": "c6da5983",
   "metadata": {
    "ExecuteTime": {
     "end_time": "2022-12-05T08:28:46.800688Z",
     "start_time": "2022-12-05T08:28:46.790715Z"
    }
   },
   "outputs": [],
   "source": [
    "def print_upper_price(num):\n",
    "    print(num * 1.3)"
   ]
  },
  {
   "cell_type": "code",
   "execution_count": 15,
   "id": "5ea32556",
   "metadata": {
    "ExecuteTime": {
     "end_time": "2022-12-05T08:29:03.832360Z",
     "start_time": "2022-12-05T08:29:03.814391Z"
    }
   },
   "outputs": [],
   "source": [
    "def print_sum(num1, num2):\n",
    "    print(num1 + num2)"
   ]
  },
  {
   "cell_type": "code",
   "execution_count": 17,
   "id": "9b006c9b",
   "metadata": {
    "ExecuteTime": {
     "end_time": "2022-12-05T08:31:33.169420Z",
     "start_time": "2022-12-05T08:31:33.158475Z"
    }
   },
   "outputs": [],
   "source": [
    "def print_arop(num1, num2):\n",
    "    print(a, \"+\", b, \"=\", a + b)\n",
    "    print(a, \"-\", b, \"=\", a - b)\n",
    "    print(a, \"*\", b, \"=\", a * b)\n",
    "    print(a, \"/\", b, \"=\", a / b)"
   ]
  },
  {
   "cell_type": "code",
   "execution_count": 18,
   "id": "18348f24",
   "metadata": {
    "ExecuteTime": {
     "end_time": "2022-12-05T08:32:48.135698Z",
     "start_time": "2022-12-05T08:32:48.126694Z"
    }
   },
   "outputs": [],
   "source": [
    "def print_max(num1, num2, num3):\n",
    "    max_val = 0\n",
    "    if num1 > max_val :\n",
    "        max_val = a\n",
    "    if num2 > max_val :\n",
    "        max_val = b\n",
    "    if num3 > max_val :\n",
    "        max_val = c\n",
    "    print(max_val)"
   ]
  },
  {
   "cell_type": "code",
   "execution_count": 20,
   "id": "e4781516",
   "metadata": {
    "ExecuteTime": {
     "end_time": "2022-12-05T08:35:10.486149Z",
     "start_time": "2022-12-05T08:35:10.478146Z"
    }
   },
   "outputs": [],
   "source": [
    "def print_reverse(string):\n",
    "    print(string[::-1])"
   ]
  },
  {
   "cell_type": "code",
   "execution_count": 22,
   "id": "3d8ca9d1",
   "metadata": {
    "ExecuteTime": {
     "end_time": "2022-12-05T08:39:44.240464Z",
     "start_time": "2022-12-05T08:39:44.230489Z"
    }
   },
   "outputs": [],
   "source": [
    "score_list = [1, 2, 3]\n",
    "\n",
    "def print_score(score_list):\n",
    "    print((sum(score_list))/len(score_list))\n",
    "    "
   ]
  },
  {
   "cell_type": "code",
   "execution_count": 23,
   "id": "1e4e785a",
   "metadata": {
    "ExecuteTime": {
     "end_time": "2022-12-05T08:40:42.559426Z",
     "start_time": "2022-12-05T08:40:42.541474Z"
    }
   },
   "outputs": [],
   "source": [
    "even_list = [1, 3, 2, 10, 12, 11, 15]\n",
    "\n",
    "def print_even(even_list):\n",
    "    for i in even_list:\n",
    "        if i%2==0:\n",
    "            print(i)"
   ]
  },
  {
   "cell_type": "code",
   "execution_count": 24,
   "id": "87dfb650",
   "metadata": {
    "ExecuteTime": {
     "end_time": "2022-12-05T08:42:03.673318Z",
     "start_time": "2022-12-05T08:42:03.662361Z"
    }
   },
   "outputs": [],
   "source": [
    "keys_list = {'이름':'장서연', '나이':27, '성별':0}\n",
    "\n",
    "def keys_list(keys_list):\n",
    "    for i in keys_list:\n",
    "        print(i[0])"
   ]
  },
  {
   "cell_type": "code",
   "execution_count": 25,
   "id": "c7af2289",
   "metadata": {
    "ExecuteTime": {
     "end_time": "2022-12-05T08:45:22.955315Z",
     "start_time": "2022-12-05T08:45:22.950326Z"
    }
   },
   "outputs": [],
   "source": [
    "def print_keys(keys_list):\n",
    "    for i in keys_list.keys():\n",
    "        print(keys)"
   ]
  },
  {
   "cell_type": "code",
   "execution_count": 26,
   "id": "e1166852",
   "metadata": {
    "ExecuteTime": {
     "end_time": "2022-12-05T08:46:08.810259Z",
     "start_time": "2022-12-05T08:46:08.798317Z"
    }
   },
   "outputs": [],
   "source": [
    "def print_vk(my_dict, key):\n",
    "    print(my_dict[key])\n",
    "    \n",
    "# my_dict안에있는 10월 26일의 값들을 키를 이용해서 불러와야하기때문에\n",
    "# print문에 key를 적어줘야함"
   ]
  },
  {
   "cell_type": "code",
   "execution_count": 43,
   "id": "56309b3d",
   "metadata": {
    "ExecuteTime": {
     "end_time": "2022-12-05T09:28:18.142701Z",
     "start_time": "2022-12-05T09:28:18.137714Z"
    }
   },
   "outputs": [
    {
     "name": "stdout",
     "output_type": "stream",
     "text": [
      "안뇽안녕안\n"
     ]
    }
   ],
   "source": [
    "str1 = '안뇽안녕안영안ㅇㄹㅇㄴ'\n",
    "def print_five(str1):\n",
    "    result = str1[:5]\n",
    "    return result\n",
    "    \n",
    "    \n",
    "\n",
    "print(print_five(str1))"
   ]
  },
  {
   "cell_type": "code",
   "execution_count": 59,
   "id": "8be372cd",
   "metadata": {
    "ExecuteTime": {
     "end_time": "2022-12-05T10:01:08.616178Z",
     "start_time": "2022-12-05T10:01:08.602220Z"
    }
   },
   "outputs": [
    {
     "name": "stdout",
     "output_type": "stream",
     "text": [
      "아이엠\n",
      "어보이\n",
      "유알어\n",
      "걸\n"
     ]
    }
   ],
   "source": [
    "\n",
    "def print_mxn(line, num):\n",
    "    t_num = int(len(line)/num)\n",
    "    for i in range(t_num + 1):\n",
    "        print(line[i * num: i * num + num])\n",
    "        \n",
    "print_mxn(\"아이엠어보이유알어걸\", 3)"
   ]
  },
  {
   "cell_type": "code",
   "execution_count": 61,
   "id": "61bd3cc3",
   "metadata": {
    "ExecuteTime": {
     "end_time": "2022-12-05T10:11:15.003012Z",
     "start_time": "2022-12-05T10:11:14.994036Z"
    }
   },
   "outputs": [],
   "source": [
    "def calc(num):\n",
    "    result = int(num / 12)\n",
    "    return result"
   ]
  },
  {
   "cell_type": "code",
   "execution_count": 62,
   "id": "4658f8f7",
   "metadata": {
    "ExecuteTime": {
     "end_time": "2022-12-05T10:14:39.309881Z",
     "start_time": "2022-12-05T10:14:39.298910Z"
    }
   },
   "outputs": [],
   "source": [
    "def make_url(str1):\n",
    "    print('www.',str1,'.com')"
   ]
  },
  {
   "cell_type": "code",
   "execution_count": 64,
   "id": "328e8bd3",
   "metadata": {
    "ExecuteTime": {
     "end_time": "2022-12-05T10:38:24.419668Z",
     "start_time": "2022-12-05T10:38:24.409720Z"
    }
   },
   "outputs": [
    {
     "data": {
      "text/plain": [
       "['a', 'b', 'c', 'd']"
      ]
     },
     "execution_count": 64,
     "metadata": {},
     "output_type": "execute_result"
    }
   ],
   "source": [
    "def make_list(str1):\n",
    "    my_list = []\n",
    "    for i in str1:\n",
    "        my_list.append(i)\n",
    "    return my_list\n",
    "\n",
    "make_list(\"abcd\")"
   ]
  },
  {
   "cell_type": "code",
   "execution_count": 72,
   "id": "9e8534e2",
   "metadata": {
    "ExecuteTime": {
     "end_time": "2022-12-05T10:41:58.791849Z",
     "start_time": "2022-12-05T10:41:58.769908Z"
    }
   },
   "outputs": [
    {
     "ename": "TypeError",
     "evalue": "pickup_even() takes 1 positional argument but 5 were given",
     "output_type": "error",
     "traceback": [
      "\u001b[1;31m---------------------------------------------------------------------------\u001b[0m",
      "\u001b[1;31mTypeError\u001b[0m                                 Traceback (most recent call last)",
      "\u001b[1;32m~\\AppData\\Local\\Temp\\ipykernel_21240\\4284109605.py\u001b[0m in \u001b[0;36m<module>\u001b[1;34m\u001b[0m\n\u001b[0;32m      8\u001b[0m     \u001b[1;32mreturn\u001b[0m \u001b[0mresult\u001b[0m\u001b[1;33m\u001b[0m\u001b[1;33m\u001b[0m\u001b[0m\n\u001b[0;32m      9\u001b[0m \u001b[1;33m\u001b[0m\u001b[0m\n\u001b[1;32m---> 10\u001b[1;33m \u001b[0mprint\u001b[0m\u001b[1;33m(\u001b[0m\u001b[0mpickup_even\u001b[0m\u001b[1;33m(\u001b[0m\u001b[1;36m2\u001b[0m\u001b[1;33m,\u001b[0m \u001b[1;36m4\u001b[0m\u001b[1;33m,\u001b[0m \u001b[1;36m5\u001b[0m\u001b[1;33m,\u001b[0m \u001b[1;36m6\u001b[0m\u001b[1;33m,\u001b[0m \u001b[1;36m7\u001b[0m\u001b[1;33m)\u001b[0m\u001b[1;33m)\u001b[0m\u001b[1;33m\u001b[0m\u001b[1;33m\u001b[0m\u001b[0m\n\u001b[0m",
      "\u001b[1;31mTypeError\u001b[0m: pickup_even() takes 1 positional argument but 5 were given"
     ]
    }
   ],
   "source": [
    "pickup_list = [3, 4, 5, 6, 7, 8]\n",
    "\n",
    "def pickup_even(pickup_list):\n",
    "    result = []\n",
    "    for i in pickup_list:\n",
    "        if i % 2 == 0:\n",
    "            result.append(i)\n",
    "    return result\n"
   ]
  },
  {
   "cell_type": "code",
   "execution_count": 74,
   "id": "5f864c91",
   "metadata": {
    "ExecuteTime": {
     "end_time": "2022-12-05T10:43:08.328708Z",
     "start_time": "2022-12-05T10:43:08.313778Z"
    }
   },
   "outputs": [],
   "source": [
    "def convert(str1):\n",
    "    result = int(str1.replace(',',''))\n",
    "    # string -> int로 올 때, 중간 ','를 빼줘야해서 replace로 ',' -> ''바꿔주는 것\n",
    "    return result"
   ]
  },
  {
   "cell_type": "code",
   "execution_count": null,
   "id": "97bb38a7",
   "metadata": {},
   "outputs": [],
   "source": []
  },
  {
   "cell_type": "code",
   "execution_count": null,
   "id": "fbcc3c70",
   "metadata": {},
   "outputs": [],
   "source": []
  },
  {
   "cell_type": "code",
   "execution_count": null,
   "id": "b2f81d72",
   "metadata": {},
   "outputs": [],
   "source": []
  },
  {
   "cell_type": "code",
   "execution_count": null,
   "id": "3920644f",
   "metadata": {},
   "outputs": [],
   "source": []
  },
  {
   "cell_type": "code",
   "execution_count": null,
   "id": "28c5cdf6",
   "metadata": {},
   "outputs": [],
   "source": []
  },
  {
   "cell_type": "code",
   "execution_count": null,
   "id": "410f8d87",
   "metadata": {},
   "outputs": [],
   "source": []
  },
  {
   "cell_type": "code",
   "execution_count": null,
   "id": "f58336d7",
   "metadata": {},
   "outputs": [],
   "source": []
  },
  {
   "cell_type": "code",
   "execution_count": null,
   "id": "3f4c64f0",
   "metadata": {},
   "outputs": [],
   "source": []
  },
  {
   "cell_type": "code",
   "execution_count": null,
   "id": "c7b94ecf",
   "metadata": {},
   "outputs": [],
   "source": []
  },
  {
   "cell_type": "code",
   "execution_count": null,
   "id": "12a9e2cc",
   "metadata": {},
   "outputs": [],
   "source": []
  },
  {
   "cell_type": "code",
   "execution_count": null,
   "id": "8c06b793",
   "metadata": {},
   "outputs": [],
   "source": []
  },
  {
   "cell_type": "code",
   "execution_count": null,
   "id": "44ca0926",
   "metadata": {},
   "outputs": [],
   "source": []
  },
  {
   "cell_type": "code",
   "execution_count": null,
   "id": "2b2b1894",
   "metadata": {},
   "outputs": [],
   "source": []
  },
  {
   "cell_type": "code",
   "execution_count": null,
   "id": "c96a3703",
   "metadata": {},
   "outputs": [],
   "source": []
  },
  {
   "cell_type": "code",
   "execution_count": null,
   "id": "9c2e65d9",
   "metadata": {},
   "outputs": [],
   "source": []
  },
  {
   "cell_type": "code",
   "execution_count": null,
   "id": "a13bb144",
   "metadata": {},
   "outputs": [],
   "source": []
  },
  {
   "cell_type": "code",
   "execution_count": null,
   "id": "ee6fd97a",
   "metadata": {},
   "outputs": [],
   "source": []
  },
  {
   "cell_type": "code",
   "execution_count": null,
   "id": "ffb8b2f7",
   "metadata": {},
   "outputs": [],
   "source": []
  },
  {
   "cell_type": "code",
   "execution_count": null,
   "id": "c7561db0",
   "metadata": {},
   "outputs": [],
   "source": []
  }
 ],
 "metadata": {
  "kernelspec": {
   "display_name": "Python 3 (ipykernel)",
   "language": "python",
   "name": "python3"
  },
  "language_info": {
   "codemirror_mode": {
    "name": "ipython",
    "version": 3
   },
   "file_extension": ".py",
   "mimetype": "text/x-python",
   "name": "python",
   "nbconvert_exporter": "python",
   "pygments_lexer": "ipython3",
   "version": "3.9.13"
  },
  "toc": {
   "base_numbering": 1,
   "nav_menu": {},
   "number_sections": true,
   "sideBar": true,
   "skip_h1_title": false,
   "title_cell": "Table of Contents",
   "title_sidebar": "Contents",
   "toc_cell": false,
   "toc_position": {},
   "toc_section_display": true,
   "toc_window_display": false
  }
 },
 "nbformat": 4,
 "nbformat_minor": 5
}
